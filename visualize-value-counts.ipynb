{
 "cells": [
  {
   "cell_type": "markdown",
   "id": "28ad7c2d",
   "metadata": {},
   "source": [
    "# visualize-value-counts\n",
    "\n",
    "For all the different value COUNTS (freqs), visualize (in log space) to pick a cutoff for values that are used too rarely.\n",
    "\n",
    "A count of 140 is a good inflection point."
   ]
  },
  {
   "cell_type": "code",
   "execution_count": null,
   "id": "222733a8",
   "metadata": {},
   "outputs": [],
   "source": [
    "import matplotlib.pyplot as plt\n",
    "import json\n",
    "from collections import defaultdict"
   ]
  },
  {
   "cell_type": "code",
   "execution_count": null,
   "id": "5cac666d",
   "metadata": {},
   "outputs": [],
   "source": [
    "key_value_count = defaultdict(int)\n",
    "\n",
    "for l in open(\"uniqmain.json\"):\n",
    "    o = json.loads(l)\n",
    "    for (k, v) in o.items():\n",
    "        key_value_count[(k, v)] += 1"
   ]
  },
  {
   "cell_type": "code",
   "execution_count": null,
   "id": "39f62cd2",
   "metadata": {},
   "outputs": [],
   "source": [
    "vals = key_value_count.values()"
   ]
  },
  {
   "cell_type": "code",
   "execution_count": null,
   "id": "be14d114",
   "metadata": {},
   "outputs": [],
   "source": [
    "vals = sorted(vals)"
   ]
  },
  {
   "cell_type": "code",
   "execution_count": null,
   "id": "0321394e",
   "metadata": {},
   "outputs": [],
   "source": [
    "plt.yscale(\"log\")\n",
    "plt.plot(range(len(vals)), vals)"
   ]
  },
  {
   "cell_type": "code",
   "execution_count": null,
   "id": "8e5d8f1c",
   "metadata": {},
   "outputs": [],
   "source": [
    "coeffs = np.polyfit(range(len(vals)), np.log(np.array(vals)), 3)\n",
    "# Evaluate the fitted curve at the original x values\n",
    "fitted_curve = np.exp(np.polyval(coeffs, range(len(vals))))\n",
    "#plt.yscale(\"log\")\n",
    "plt.yscale(\"log\")\n",
    "plt.plot(range(len(vals)), fitted_curve)"
   ]
  },
  {
   "cell_type": "code",
   "execution_count": null,
   "id": "5c9f7b31",
   "metadata": {},
   "outputs": [],
   "source": [
    "# Differentiate the polynomial\n",
    "derivative_coeffs = np.polyder(coeffs)\n",
    "\n",
    "# Compute the slope (derivative) at each x value\n",
    "slopes = np.polyval(derivative_coeffs, range(len(vals)))"
   ]
  },
  {
   "cell_type": "code",
   "execution_count": null,
   "id": "6508ae52",
   "metadata": {},
   "outputs": [],
   "source": [
    "plt.plot(slopes)"
   ]
  },
  {
   "cell_type": "code",
   "execution_count": null,
   "id": "95c85127",
   "metadata": {},
   "outputs": [],
   "source": [
    "# Inflection point %\n",
    "np.argmin(slopes) / len(slopes)"
   ]
  },
  {
   "cell_type": "code",
   "execution_count": null,
   "id": "ff048b17",
   "metadata": {},
   "outputs": [],
   "source": [
    "# Inflection point\n",
    "vals[np.argmin(slopes)]"
   ]
  },
  {
   "cell_type": "code",
   "execution_count": null,
   "id": "72090b8a",
   "metadata": {},
   "outputs": [],
   "source": []
  }
 ],
 "metadata": {
  "kernelspec": {
   "display_name": "Python 3 (ipykernel)",
   "language": "python",
   "name": "python3"
  },
  "language_info": {
   "codemirror_mode": {
    "name": "ipython",
    "version": 3
   },
   "file_extension": ".py",
   "mimetype": "text/x-python",
   "name": "python",
   "nbconvert_exporter": "python",
   "pygments_lexer": "ipython3",
   "version": "3.11.5"
  }
 },
 "nbformat": 4,
 "nbformat_minor": 5
}
