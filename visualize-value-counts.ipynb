{
 "cells": [
  {
   "cell_type": "markdown",
   "id": "28ad7c2d",
   "metadata": {},
   "source": [
    "# visualize-value-counts\n",
    "\n",
    "For all the different value COUNTS (freqs), visualize (in log space) to pick a cutoff for values that are used too rarely.\n",
    "\n",
    "A count of 140 is a good inflection point."
   ]
  },
  {
   "cell_type": "code",
   "execution_count": null,
   "id": "222733a8",
   "metadata": {},
   "outputs": [],
   "source": [
    "import matplotlib.pyplot as plt\n",
    "import json\n",
    "import numpy as np\n",
    "from collections import defaultdict\n",
    "import copy"
   ]
  },
  {
   "cell_type": "code",
   "execution_count": null,
   "id": "0257fc7f",
   "metadata": {},
   "outputs": [],
   "source": [
    "# The MOST important parameter\n",
    "N_ALGORITHMS = 4"
   ]
  },
  {
   "cell_type": "code",
   "execution_count": null,
   "id": "5cac666d",
   "metadata": {},
   "outputs": [],
   "source": [
    "key_value_count = defaultdict(int)\n",
    "\n",
    "for l in open(\"uniqmain.json\"):\n",
    "    o = json.loads(l)\n",
    "    for (k, v) in o.items():\n",
    "        key_value_count[(k, v)] += 1\n",
    "        \n",
    "key_to_count_value = {}\n",
    "for (k, v) in key_value_count:\n",
    "    if k not in key_to_count_value:\n",
    "        key_to_count_value[k] = []\n",
    "    key_to_count_value[k].append((key_value_count[(k, v)], v))\n",
    "    \n",
    "for k in list(key_to_count_value.keys()):\n",
    "    key_to_count_value[k] = sorted(key_to_count_value[k], reverse=True)\n",
    "    #print(k, key_to_count_value[k])"
   ]
  },
  {
   "cell_type": "code",
   "execution_count": null,
   "id": "feee7367",
   "metadata": {},
   "outputs": [],
   "source": [
    "# Algorithms, from most to least prevalent\n",
    "print([v for (cnt, v) in key_to_count_value[\"ALG\"]])"
   ]
  },
  {
   "cell_type": "code",
   "execution_count": null,
   "id": "db6533bf",
   "metadata": {},
   "outputs": [],
   "source": [
    "# Algorithm, the most important parameter?\n",
    "\n",
    "tot = sum([cnt for (cnt, v) in key_to_count_value[\"ALG\"]])\n",
    "\n",
    "alg_percentile = [cnt/tot for (cnt, v) in key_to_count_value[\"ALG\"]]\n",
    "#print([(v, (\".2f\" % (cnt/tot))) for (cnt, v) in key_to_count_value[\"ALG\"]])\n",
    "print([(v, float(f\"{cnt/tot:.3f}\")) for (cnt, v) in key_to_count_value[\"ALG\"]])"
   ]
  },
  {
   "cell_type": "code",
   "execution_count": null,
   "id": "8c116fca",
   "metadata": {},
   "outputs": [],
   "source": [
    "plt.plot(range(len(alg_percentile)), alg_percentile)"
   ]
  },
  {
   "cell_type": "code",
   "execution_count": null,
   "id": "07c8085f",
   "metadata": {},
   "outputs": [],
   "source": [
    "kept_algorithms = [v for (cnt, v) in key_to_count_value[\"ALG\"][:N_ALGORITHMS]]\n",
    "print(\"kept algorithms:\", kept_algorithms)"
   ]
  },
  {
   "cell_type": "code",
   "execution_count": null,
   "id": "1fd6de4c",
   "metadata": {},
   "outputs": [],
   "source": [
    "# Redo everything, but keep only patches with these algorithms"
   ]
  },
  {
   "cell_type": "code",
   "execution_count": null,
   "id": "9710753f",
   "metadata": {},
   "outputs": [],
   "source": [
    "key_value_count = defaultdict(int)\n",
    "\n",
    "for l in open(\"uniqmain.json\"):\n",
    "    o = json.loads(l)\n",
    "    if o[\"ALG\"] not in kept_algorithms:\n",
    "        continue\n",
    "    for (k, v) in o.items():\n",
    "        key_value_count[(k, v)] += 1\n",
    "        \n",
    "key_to_count_value = {}\n",
    "for (k, v) in key_value_count:\n",
    "    if k not in key_to_count_value:\n",
    "        key_to_count_value[k] = []\n",
    "    key_to_count_value[k].append((key_value_count[(k, v)], v))\n",
    "    \n",
    "for k in list(key_to_count_value.keys()):\n",
    "    key_to_count_value[k] = sorted(key_to_count_value[k], reverse=True)\n",
    "    #print(k, len(key_to_count_value[k]))"
   ]
  },
  {
   "cell_type": "code",
   "execution_count": null,
   "id": "39f62cd2",
   "metadata": {},
   "outputs": [],
   "source": [
    "vals = key_value_count.values()\n",
    "vals = sorted(vals)"
   ]
  },
  {
   "cell_type": "code",
   "execution_count": null,
   "id": "68c4784d",
   "metadata": {},
   "outputs": [],
   "source": [
    "qs = []\n",
    "kv_tot_possibles = []\n",
    "for q in range(0, 100, 1):\n",
    "    threshold = np.percentile(vals, q)\n",
    "    #print(q, threshold)\n",
    "    this_key_to_count_value = copy.deepcopy(key_to_count_value)\n",
    "    tot_possible = 1\n",
    "    for k in list(key_to_count_value.keys()):\n",
    "        this_key_to_count_value[k] = key_to_count_value[k][:1] + [(cnt, v) for (cnt, v) in key_to_count_value[k][1:] if cnt >= threshold]\n",
    "        #print(\"\\t\", k, len(this_key_to_count_value[k]))\n",
    "        tot_possible *= len(this_key_to_count_value[k])\n",
    "    qs.append(q)\n",
    "    kv_tot_possibles.append(tot_possible)"
   ]
  },
  {
   "cell_type": "code",
   "execution_count": null,
   "id": "74b96bcf",
   "metadata": {},
   "outputs": [],
   "source": [
    "plt.plot(qs, kv_tot_possibles)\n",
    "plt.yscale(\"log\")\n",
    "plt.ylabel(\"Possible patches\")\n",
    "plt.xlabel(\"(param, value) percentile\")"
   ]
  },
  {
   "cell_type": "code",
   "execution_count": null,
   "id": "286c954c",
   "metadata": {},
   "outputs": [],
   "source": [
    "qs = []\n",
    "v_tot_possibles = []\n",
    "for q in range(0, 100, 1):\n",
    "    threshold = np.percentile(vals, q)\n",
    "    #print(q, threshold)\n",
    "    this_key_to_count_value = copy.deepcopy(key_to_count_value)\n",
    "    tot_possible = 1\n",
    "    for k in list(key_to_count_value.keys()):\n",
    "        cnttot = sum([cnt for (cnt, v) in key_to_count_value[k]])\n",
    "        this_key_to_count_value[k] = key_to_count_value[k][:1] + [(cnt, v) for (cnt, v) in key_to_count_value[k][1:] if (cnt/cnttot*100) >= threshold]\n",
    "        #print(\"\\t\", k, len(this_key_to_count_value[k]))\n",
    "        tot_possible *= len(this_key_to_count_value[k])\n",
    "    qs.append(q)\n",
    "    v_tot_possibles.append(tot_possible)"
   ]
  },
  {
   "cell_type": "code",
   "execution_count": null,
   "id": "fb12c2e0",
   "metadata": {},
   "outputs": [],
   "source": [
    "plt.plot(qs, v_tot_possibles)\n",
    "plt.yscale(\"log\")\n",
    "plt.ylabel(\"Possible patches\")\n",
    "plt.xlabel(\"value percentile by param\")"
   ]
  },
  {
   "cell_type": "code",
   "execution_count": null,
   "id": "fa117aaf",
   "metadata": {},
   "outputs": [],
   "source": [
    "plt.plot(qs, v_tot_possibles, label=\"value threshold\")\n",
    "plt.plot(qs, kv_tot_possibles, label=\"(param, value) threshold\")\n",
    "\n",
    "plt.xlabel(\"percentile\")\n",
    "plt.yscale(\"log\")\n",
    "plt.ylabel(\"Possible patches\")\n",
    "#plt.xlabel(\"value percentile by param\")\n",
    "\n",
    "\n",
    "# Set the x-range\n",
    "#plt.xlim(50, 100)\n",
    "\n",
    "plt.legend()\n",
    "\n",
    "# Show the plot\n",
    "plt.show()\n",
    "\n",
    "\n",
    "# Clear the plot\n",
    "plt.clf()"
   ]
  },
  {
   "cell_type": "code",
   "execution_count": null,
   "id": "0321394e",
   "metadata": {},
   "outputs": [],
   "source": [
    "plt.yscale(\"log\")\n",
    "plt.plot(range(len(vals)), vals)"
   ]
  },
  {
   "cell_type": "code",
   "execution_count": null,
   "id": "8e5d8f1c",
   "metadata": {},
   "outputs": [],
   "source": [
    "coeffs = np.polyfit(range(len(vals)), np.log(np.array(vals)), 2)\n",
    "# Evaluate the fitted curve at the original x values\n",
    "fitted_curve = np.exp(np.polyval(coeffs, range(len(vals))))\n",
    "#plt.yscale(\"log\")\n",
    "plt.yscale(\"log\")\n",
    "plt.plot(range(len(vals)), fitted_curve)"
   ]
  },
  {
   "cell_type": "code",
   "execution_count": null,
   "id": "5c9f7b31",
   "metadata": {},
   "outputs": [],
   "source": [
    "# Differentiate the polynomial\n",
    "derivative_coeffs = np.polyder(coeffs)\n",
    "\n",
    "# Compute the slope (derivative) at each x value\n",
    "slopes = np.polyval(derivative_coeffs, range(len(vals)))"
   ]
  },
  {
   "cell_type": "code",
   "execution_count": null,
   "id": "6508ae52",
   "metadata": {},
   "outputs": [],
   "source": [
    "plt.plot(slopes)"
   ]
  },
  {
   "cell_type": "code",
   "execution_count": null,
   "id": "95c85127",
   "metadata": {},
   "outputs": [],
   "source": [
    "# Inflection point %\n",
    "np.argmin(slopes) / len(slopes)"
   ]
  },
  {
   "cell_type": "code",
   "execution_count": null,
   "id": "ff048b17",
   "metadata": {},
   "outputs": [],
   "source": [
    "# Inflection point\n",
    "vals[np.argmin(slopes)]"
   ]
  },
  {
   "cell_type": "code",
   "execution_count": null,
   "id": "72090b8a",
   "metadata": {},
   "outputs": [],
   "source": []
  },
  {
   "cell_type": "code",
   "execution_count": null,
   "id": "3453bff1",
   "metadata": {},
   "outputs": [],
   "source": []
  }
 ],
 "metadata": {
  "kernelspec": {
   "display_name": "Python 3 (ipykernel)",
   "language": "python",
   "name": "python3"
  },
  "language_info": {
   "codemirror_mode": {
    "name": "ipython",
    "version": 3
   },
   "file_extension": ".py",
   "mimetype": "text/x-python",
   "name": "python",
   "nbconvert_exporter": "python",
   "pygments_lexer": "ipython3",
   "version": "3.11.5"
  }
 },
 "nbformat": 4,
 "nbformat_minor": 5
}
